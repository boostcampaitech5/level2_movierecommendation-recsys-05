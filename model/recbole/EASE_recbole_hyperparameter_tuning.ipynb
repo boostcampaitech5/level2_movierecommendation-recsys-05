{
 "cells": [
  {
   "cell_type": "code",
   "execution_count": 27,
   "id": "8f415df7-ad56-4599-887c-ad95bdebec3d",
   "metadata": {},
   "outputs": [],
   "source": [
    "config = \"\"\"\n",
    "model: EASE\n",
    "\n",
    "data_path: /opt/ml/zip/recbole/data\n",
    "dataset: movie\n",
    "field_separator: \"\\t\"\n",
    "seq_separator: \" \"\n",
    "USER_ID_FIELD: user\n",
    "ITEM_ID_FIELD: item\n",
    "TIME_FIELD: time\n",
    "show_progress: false\n",
    "use_gpu: true\n",
    "\n",
    "load_col:\n",
    "    inter: [user, item, time]\n",
    "    user: [user]\n",
    "    item: [item, genre, director, title, writer, year]\n",
    "\n",
    "user_inter_num_interval: \"[0,inf)\"\n",
    "item_inter_num_interval: \"[0,inf)\"\n",
    "\n",
    "epochs: 500\n",
    "train_batch_size: 4096\n",
    "metrics: [\"Recall\", \"NDCG\"]\n",
    "topk: [10]\n",
    "valid_metric: NDCG@10\n",
    "\n",
    "eval_args:\n",
    "  group_by: user\n",
    "  order: RO\n",
    "  split: {'RS':[8,1,1]}\n",
    "  mode: full\n",
    "\n",
    "train_neg_sample_args: \n",
    "    distribution: uniform\n",
    "    sample_num: 1\n",
    "\"\"\"\n",
    "\n",
    "with open(\"data/config.yaml\", \"w\") as f:\n",
    "    f.write(config)"
   ]
  },
  {
   "cell_type": "code",
   "execution_count": 2,
   "id": "f1557cbd-703c-4b44-b06a-f97667cc500d",
   "metadata": {},
   "outputs": [],
   "source": [
    "import argparse\n",
    "\n",
    "parser = argparse.ArgumentParser()\n",
    "parser.add_argument(\n",
    "    \"--output_file\", type=str, default=\"hyper_example.result\", help=\"output file\"\n",
    ")\n",
    "parser.add_argument(\n",
    "    \"--display_file\", type=str, default=None, help=\"visualization file\"\n",
    ")\n",
    "parser.add_argument(\"--tool\", type=str, default=\"Hyperopt\", help=\"tuning tool\")\n",
    "parser.add_argument(\"--model\", type=str, default=\"EASE\", help=\"model\")\n",
    "parser.add_argument(\"--dataset\", type=str, default=\"movie\", help=\"dataset\")\n",
    "parser.add_argument(\n",
    "    \"--config_files\", type=str, default=\"data/config.yaml\", help=\"fixed config files\"\n",
    ")\n",
    "parser.add_argument(\"--params_file\", type=str, default=\"hyper.test\", help=\"parameters file\")\n",
    "args, _ = parser.parse_known_args()"
   ]
  },
  {
   "cell_type": "code",
   "execution_count": null,
   "id": "5d313817-3a16-4e99-828e-7d22c489ec79",
   "metadata": {},
   "outputs": [],
   "source": [
    "from recbole.quick_start import objective_function"
   ]
  },
  {
   "cell_type": "code",
   "execution_count": 8,
   "id": "37d45837-2627-4ef2-bbb8-0e0fe9160c7e",
   "metadata": {},
   "outputs": [],
   "source": [
    "from recbole.trainer import HyperTuning"
   ]
  },
  {
   "cell_type": "code",
   "execution_count": 9,
   "id": "e622393c-6739-40a3-b40f-a39e5cafe63a",
   "metadata": {},
   "outputs": [],
   "source": [
    "def hyperopt_tune(args):\n",
    "    # plz set algo='exhaustive' to use exhaustive search, in this case, max_evals is auto set\n",
    "    # in other case, max_evals needs to be set manually\n",
    "    config_file_list = (\n",
    "        args.config_files.strip().split(\" \") if args.config_files else None\n",
    "    )\n",
    "    hp = HyperTuning(\n",
    "        objective_function,\n",
    "        algo=\"exhaustive\",\n",
    "        early_stop=10,\n",
    "        max_evals=100,\n",
    "        params_file=args.params_file,\n",
    "        fixed_config_file_list=config_file_list,\n",
    "        display_file=args.display_file,\n",
    "    )\n",
    "    hp.run()\n",
    "    hp.export_result(output_file=args.output_file)\n",
    "    print(\"best params: \", hp.best_params)\n",
    "    print(\"best result: \")\n",
    "    print(hp.params2result[hp.params2str(hp.best_params)])"
   ]
  },
  {
   "cell_type": "code",
   "execution_count": 10,
   "id": "b905a70c-6c1e-4ec9-979a-d4e4a8f2c020",
   "metadata": {},
   "outputs": [
    {
     "name": "stdout",
     "output_type": "stream",
     "text": [
      "running parameters:                                  \n",
      "{'reg_weight': 1.0}                                  \n",
      "  0%|          | 0/6 [00:00<?, ?trial/s, best loss=?]"
     ]
    },
    {
     "name": "stderr",
     "output_type": "stream",
     "text": [
      "16 Jun 03:32    INFO  \u001b[1;35m[Training]: \u001b[0m\u001b[1;36mtrain_batch_size\u001b[0m = \u001b[1;33m[4096]\u001b[0m\u001b[1;36m train_neg_sample_args\u001b[0m: \u001b[1;33m[{'distribution': 'uniform', 'sample_num': 1, 'alpha': 1.0, 'dynamic': False, 'candidate_num': 0}]\u001b[0m\n",
      "\n",
      "16 Jun 03:32    INFO  \u001b[1;35m[Evaluation]: \u001b[0m\u001b[1;36meval_batch_size\u001b[0m = \u001b[1;33m[4096]\u001b[0m\u001b[1;36m eval_args\u001b[0m: \u001b[1;33m[{'group_by': 'user', 'order': 'RO', 'split': {'RS': [8, 1, 1]}, 'mode': 'full'}]\u001b[0m\n",
      "\n",
      "16 Jun 03:34    INFO  Loading model structure and parameters from saved/EASE-Jun-16-2023_03-33-00.pth\u001b[0m\n",
      "\n",
      "\u001b[33m16 Jun 03:34    WARNING  Session not detected. You should not be calling `report` outside `tuner.fit()` or while using the class API. \u001b[0m\n",
      "\n",
      "\u001b[33m16 Jun 03:34    WARNING    File \"/opt/conda/envs/bc_recbole_pip/lib/python3.8/runpy.py\", line 194, in _run_module_as_main\n",
      "    return _run_code(code, main_globals, None,\n",
      "  File \"/opt/conda/envs/bc_recbole_pip/lib/python3.8/runpy.py\", line 87, in _run_code\n",
      "    exec(code, run_globals)\n",
      "  File \"/opt/conda/envs/bc_recbole_pip/lib/python3.8/site-packages/ipykernel_launcher.py\", line 17, in <module>\n",
      "    app.launch_new_instance()\n",
      "  File \"/opt/conda/envs/bc_recbole_pip/lib/python3.8/site-packages/traitlets/config/application.py\", line 992, in launch_instance\n",
      "    app.start()\n",
      "  File \"/opt/conda/envs/bc_recbole_pip/lib/python3.8/site-packages/ipykernel/kernelapp.py\", line 711, in start\n",
      "    self.io_loop.start()\n",
      "  File \"/opt/conda/envs/bc_recbole_pip/lib/python3.8/site-packages/tornado/platform/asyncio.py\", line 215, in start\n",
      "    self.asyncio_loop.run_forever()\n",
      "  File \"/opt/conda/envs/bc_recbole_pip/lib/python3.8/asyncio/base_events.py\", line 570, in run_forever\n",
      "    self._run_once()\n",
      "  File \"/opt/conda/envs/bc_recbole_pip/lib/python3.8/asyncio/base_events.py\", line 1859, in _run_once\n",
      "    handle._run()\n",
      "  File \"/opt/conda/envs/bc_recbole_pip/lib/python3.8/asyncio/events.py\", line 81, in _run\n",
      "    self._context.run(self._callback, *self._args)\n",
      "  File \"/opt/conda/envs/bc_recbole_pip/lib/python3.8/site-packages/ipykernel/kernelbase.py\", line 510, in dispatch_queue\n",
      "    await self.process_one()\n",
      "  File \"/opt/conda/envs/bc_recbole_pip/lib/python3.8/site-packages/ipykernel/kernelbase.py\", line 499, in process_one\n",
      "    await dispatch(*args)\n",
      "  File \"/opt/conda/envs/bc_recbole_pip/lib/python3.8/site-packages/ipykernel/kernelbase.py\", line 406, in dispatch_shell\n",
      "    await result\n",
      "  File \"/opt/conda/envs/bc_recbole_pip/lib/python3.8/site-packages/ipykernel/kernelbase.py\", line 729, in execute_request\n",
      "    reply_content = await reply_content\n",
      "  File \"/opt/conda/envs/bc_recbole_pip/lib/python3.8/site-packages/ipykernel/ipkernel.py\", line 411, in do_execute\n",
      "    res = shell.run_cell(\n",
      "  File \"/opt/conda/envs/bc_recbole_pip/lib/python3.8/site-packages/ipykernel/zmqshell.py\", line 531, in run_cell\n",
      "    return super().run_cell(*args, **kwargs)\n",
      "  File \"/opt/conda/envs/bc_recbole_pip/lib/python3.8/site-packages/IPython/core/interactiveshell.py\", line 3006, in run_cell\n",
      "    result = self._run_cell(\n",
      "  File \"/opt/conda/envs/bc_recbole_pip/lib/python3.8/site-packages/IPython/core/interactiveshell.py\", line 3061, in _run_cell\n",
      "    result = runner(coro)\n",
      "  File \"/opt/conda/envs/bc_recbole_pip/lib/python3.8/site-packages/IPython/core/async_helpers.py\", line 129, in _pseudo_sync_runner\n",
      "    coro.send(None)\n",
      "  File \"/opt/conda/envs/bc_recbole_pip/lib/python3.8/site-packages/IPython/core/interactiveshell.py\", line 3266, in run_cell_async\n",
      "    has_raised = await self.run_ast_nodes(code_ast.body, cell_name,\n",
      "  File \"/opt/conda/envs/bc_recbole_pip/lib/python3.8/site-packages/IPython/core/interactiveshell.py\", line 3445, in run_ast_nodes\n",
      "    if await self.run_code(code, result, async_=asy):\n",
      "  File \"/opt/conda/envs/bc_recbole_pip/lib/python3.8/site-packages/IPython/core/interactiveshell.py\", line 3505, in run_code\n",
      "    exec(code_obj, self.user_global_ns, self.user_ns)\n",
      "  File \"/tmp/ipykernel_58336/1671078504.py\", line 1, in <module>\n",
      "    hyperopt_tune(args)\n",
      "  File \"/tmp/ipykernel_58336/1973234938.py\", line 16, in hyperopt_tune\n",
      "    hp.run()\n",
      "  File \"/opt/conda/envs/bc_recbole_pip/lib/python3.8/site-packages/recbole/trainer/hyper_tuning.py\", line 411, in run\n",
      "    fmin(\n",
      "  File \"/opt/conda/envs/bc_recbole_pip/lib/python3.8/site-packages/hyperopt/fmin.py\", line 553, in fmin\n",
      "    rval.exhaust()\n",
      "  File \"/opt/conda/envs/bc_recbole_pip/lib/python3.8/site-packages/hyperopt/fmin.py\", line 356, in exhaust\n",
      "    self.run(self.max_evals - n_done, block_until_done=self.asynchronous)\n",
      "  File \"/opt/conda/envs/bc_recbole_pip/lib/python3.8/site-packages/hyperopt/fmin.py\", line 292, in run\n",
      "    self.serial_evaluate()\n",
      "  File \"/opt/conda/envs/bc_recbole_pip/lib/python3.8/site-packages/hyperopt/fmin.py\", line 170, in serial_evaluate\n",
      "    result = self.domain.evaluate(spec, ctrl)\n",
      "  File \"/opt/conda/envs/bc_recbole_pip/lib/python3.8/site-packages/hyperopt/base.py\", line 907, in evaluate\n",
      "    rval = self.fn(pyll_rval)\n",
      "  File \"/opt/conda/envs/bc_recbole_pip/lib/python3.8/site-packages/recbole/trainer/hyper_tuning.py\", line 346, in trial\n",
      "    result_dict = self.objective_function(config_dict, self.fixed_config_file_list)\n",
      "  File \"/opt/conda/envs/bc_recbole_pip/lib/python3.8/site-packages/recbole/quick_start/quick_start.py\", line 151, in objective_function\n",
      "    tune.report(**test_result)\n",
      "\u001b[0m\n",
      "\n"
     ]
    },
    {
     "name": "stdout",
     "output_type": "stream",
     "text": [
      "current best valid score: 0.2037                     \n",
      "current best valid result:                           \n",
      "OrderedDict([('recall@10', 0.1415), ('ndcg@10', 0.2037)])\n",
      "current test result:                                 \n",
      "OrderedDict([('recall@10', 0.1596), ('ndcg@10', 0.2459)])\n",
      "running parameters:                                                  \n",
      "{'reg_weight': 10.0}                                                 \n",
      " 17%|█▋        | 1/6 [02:46<13:52, 166.51s/trial, best loss: -0.2037]"
     ]
    },
    {
     "name": "stderr",
     "output_type": "stream",
     "text": [
      "16 Jun 03:35    INFO  \u001b[1;35m[Training]: \u001b[0m\u001b[1;36mtrain_batch_size\u001b[0m = \u001b[1;33m[4096]\u001b[0m\u001b[1;36m train_neg_sample_args\u001b[0m: \u001b[1;33m[{'distribution': 'uniform', 'sample_num': 1, 'alpha': 1.0, 'dynamic': False, 'candidate_num': 0}]\u001b[0m\n",
      "\n",
      "16 Jun 03:35    INFO  \u001b[1;35m[Evaluation]: \u001b[0m\u001b[1;36meval_batch_size\u001b[0m = \u001b[1;33m[4096]\u001b[0m\u001b[1;36m eval_args\u001b[0m: \u001b[1;33m[{'group_by': 'user', 'order': 'RO', 'split': {'RS': [8, 1, 1]}, 'mode': 'full'}]\u001b[0m\n",
      "\n",
      "16 Jun 03:36    INFO  Loading model structure and parameters from saved/EASE-Jun-16-2023_03-35-46.pth\u001b[0m\n",
      "\n"
     ]
    },
    {
     "name": "stdout",
     "output_type": "stream",
     "text": [
      "current best valid score: 0.2149                                     \n",
      "current best valid result:                                           \n",
      "OrderedDict([('recall@10', 0.1479), ('ndcg@10', 0.2149)])            \n",
      "current test result:                                                 \n",
      "OrderedDict([('recall@10', 0.1676), ('ndcg@10', 0.2617)])            \n",
      "running parameters:                                                  \n",
      "{'reg_weight': 100.0}                                                \n",
      " 33%|███▎      | 2/6 [05:32<11:04, 166.02s/trial, best loss: -0.2149]"
     ]
    },
    {
     "name": "stderr",
     "output_type": "stream",
     "text": [
      "16 Jun 03:38    INFO  \u001b[1;35m[Training]: \u001b[0m\u001b[1;36mtrain_batch_size\u001b[0m = \u001b[1;33m[4096]\u001b[0m\u001b[1;36m train_neg_sample_args\u001b[0m: \u001b[1;33m[{'distribution': 'uniform', 'sample_num': 1, 'alpha': 1.0, 'dynamic': False, 'candidate_num': 0}]\u001b[0m\n",
      "\n",
      "16 Jun 03:38    INFO  \u001b[1;35m[Evaluation]: \u001b[0m\u001b[1;36meval_batch_size\u001b[0m = \u001b[1;33m[4096]\u001b[0m\u001b[1;36m eval_args\u001b[0m: \u001b[1;33m[{'group_by': 'user', 'order': 'RO', 'split': {'RS': [8, 1, 1]}, 'mode': 'full'}]\u001b[0m\n",
      "\n",
      "16 Jun 03:39    INFO  Loading model structure and parameters from saved/EASE-Jun-16-2023_03-38-31.pth\u001b[0m\n",
      "\n"
     ]
    },
    {
     "name": "stdout",
     "output_type": "stream",
     "text": [
      "current best valid score: 0.2370                                     \n",
      "current best valid result:                                           \n",
      "OrderedDict([('recall@10', 0.1607), ('ndcg@10', 0.237)])             \n",
      "current test result:                                                 \n",
      "OrderedDict([('recall@10', 0.1836), ('ndcg@10', 0.2947)])            \n",
      "running parameters:                                                  \n",
      "{'reg_weight': 500.0}                                               \n",
      " 50%|█████     | 3/6 [08:17<08:16, 165.59s/trial, best loss: -0.237]"
     ]
    },
    {
     "name": "stderr",
     "output_type": "stream",
     "text": [
      "16 Jun 03:41    INFO  \u001b[1;35m[Training]: \u001b[0m\u001b[1;36mtrain_batch_size\u001b[0m = \u001b[1;33m[4096]\u001b[0m\u001b[1;36m train_neg_sample_args\u001b[0m: \u001b[1;33m[{'distribution': 'uniform', 'sample_num': 1, 'alpha': 1.0, 'dynamic': False, 'candidate_num': 0}]\u001b[0m\n",
      "\n",
      "16 Jun 03:41    INFO  \u001b[1;35m[Evaluation]: \u001b[0m\u001b[1;36meval_batch_size\u001b[0m = \u001b[1;33m[4096]\u001b[0m\u001b[1;36m eval_args\u001b[0m: \u001b[1;33m[{'group_by': 'user', 'order': 'RO', 'split': {'RS': [8, 1, 1]}, 'mode': 'full'}]\u001b[0m\n",
      "\n",
      "16 Jun 03:42    INFO  Loading model structure and parameters from saved/EASE-Jun-16-2023_03-41-17.pth\u001b[0m\n",
      "\n"
     ]
    },
    {
     "name": "stdout",
     "output_type": "stream",
     "text": [
      "current best valid score: 0.2470                                    \n",
      "current best valid result:                                          \n",
      "OrderedDict([('recall@10', 0.166), ('ndcg@10', 0.247)])             \n",
      "current test result:                                                \n",
      "OrderedDict([('recall@10', 0.1908), ('ndcg@10', 0.3114)])           \n",
      "running parameters:                                                 \n",
      "{'reg_weight': 1000.0}                                              \n",
      " 67%|██████▋   | 4/6 [11:04<05:32, 166.08s/trial, best loss: -0.247]"
     ]
    },
    {
     "name": "stderr",
     "output_type": "stream",
     "text": [
      "16 Jun 03:43    INFO  \u001b[1;35m[Training]: \u001b[0m\u001b[1;36mtrain_batch_size\u001b[0m = \u001b[1;33m[4096]\u001b[0m\u001b[1;36m train_neg_sample_args\u001b[0m: \u001b[1;33m[{'distribution': 'uniform', 'sample_num': 1, 'alpha': 1.0, 'dynamic': False, 'candidate_num': 0}]\u001b[0m\n",
      "\n",
      "16 Jun 03:43    INFO  \u001b[1;35m[Evaluation]: \u001b[0m\u001b[1;36meval_batch_size\u001b[0m = \u001b[1;33m[4096]\u001b[0m\u001b[1;36m eval_args\u001b[0m: \u001b[1;33m[{'group_by': 'user', 'order': 'RO', 'split': {'RS': [8, 1, 1]}, 'mode': 'full'}]\u001b[0m\n",
      "\n",
      "16 Jun 03:45    INFO  Loading model structure and parameters from saved/EASE-Jun-16-2023_03-44-03.pth\u001b[0m\n",
      "\n"
     ]
    },
    {
     "name": "stdout",
     "output_type": "stream",
     "text": [
      "current best valid score: 0.2486                                    \n",
      "current best valid result:                                          \n",
      "OrderedDict([('recall@10', 0.1666), ('ndcg@10', 0.2486)])           \n",
      "current test result:                                                \n",
      "OrderedDict([('recall@10', 0.1912), ('ndcg@10', 0.3142)])           \n",
      "running parameters:                                                  \n",
      "{'reg_weight': 250.0}                                                \n",
      " 83%|████████▎ | 5/6 [13:50<02:46, 166.19s/trial, best loss: -0.2486]"
     ]
    },
    {
     "name": "stderr",
     "output_type": "stream",
     "text": [
      "16 Jun 03:46    INFO  \u001b[1;35m[Training]: \u001b[0m\u001b[1;36mtrain_batch_size\u001b[0m = \u001b[1;33m[4096]\u001b[0m\u001b[1;36m train_neg_sample_args\u001b[0m: \u001b[1;33m[{'distribution': 'uniform', 'sample_num': 1, 'alpha': 1.0, 'dynamic': False, 'candidate_num': 0}]\u001b[0m\n",
      "\n",
      "16 Jun 03:46    INFO  \u001b[1;35m[Evaluation]: \u001b[0m\u001b[1;36meval_batch_size\u001b[0m = \u001b[1;33m[4096]\u001b[0m\u001b[1;36m eval_args\u001b[0m: \u001b[1;33m[{'group_by': 'user', 'order': 'RO', 'split': {'RS': [8, 1, 1]}, 'mode': 'full'}]\u001b[0m\n",
      "\n",
      "16 Jun 03:47    INFO  Loading model structure and parameters from saved/EASE-Jun-16-2023_03-46-49.pth\u001b[0m\n",
      "\n"
     ]
    },
    {
     "name": "stdout",
     "output_type": "stream",
     "text": [
      "100%|██████████| 6/6 [16:35<00:00, 165.84s/trial, best loss: -0.2486]\n",
      "best params:  {'reg_weight': 1000.0}\n",
      "best result: \n",
      "{'model': 'EASE', 'best_valid_score': 0.2486, 'valid_score_bigger': True, 'best_valid_result': OrderedDict([('recall@10', 0.1666), ('ndcg@10', 0.2486)]), 'test_result': OrderedDict([('recall@10', 0.1912), ('ndcg@10', 0.3142)])}\n"
     ]
    }
   ],
   "source": [
    "hyperopt_tune(args)"
   ]
  }
 ],
 "metadata": {
  "kernelspec": {
   "display_name": "bc_recbole_pip",
   "language": "python",
   "name": "bc_recbole_pip"
  },
  "language_info": {
   "codemirror_mode": {
    "name": "ipython",
    "version": 3
   },
   "file_extension": ".py",
   "mimetype": "text/x-python",
   "name": "python",
   "nbconvert_exporter": "python",
   "pygments_lexer": "ipython3",
   "version": "3.8.16"
  }
 },
 "nbformat": 4,
 "nbformat_minor": 5
}
