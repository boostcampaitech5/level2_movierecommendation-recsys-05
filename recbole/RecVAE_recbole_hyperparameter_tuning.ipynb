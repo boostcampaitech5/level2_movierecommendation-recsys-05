{
 "cells": [
  {
   "cell_type": "code",
   "execution_count": 1,
   "id": "8f415df7-ad56-4599-887c-ad95bdebec3d",
   "metadata": {},
   "outputs": [],
   "source": [
    "config = \"\"\"\n",
    "model: RecVAE\n",
    "\n",
    "data_path: /opt/ml/zip/recbole/data\n",
    "dataset: movie\n",
    "field_separator: \"\\t\"\n",
    "seq_separator: \" \"\n",
    "USER_ID_FIELD: user\n",
    "ITEM_ID_FIELD: item\n",
    "TIME_FIELD: time\n",
    "show_progress: false\n",
    "use_gpu: true\n",
    "\n",
    "load_col:\n",
    "    inter: [user, item, time]\n",
    "    user: [user]\n",
    "    item: [item, genre, director, title, writer, year]\n",
    "\n",
    "user_inter_num_interval: \"[0,inf)\"\n",
    "item_inter_num_interval: \"[0,inf)\"\n",
    "\n",
    "epochs: 500\n",
    "train_batch_size: 4096\n",
    "metrics: [\"Recall\", \"NDCG\"]\n",
    "topk: [10]\n",
    "valid_metric: NDCG@10\n",
    "\n",
    "eval_args:\n",
    "  group_by: user\n",
    "  order: RO\n",
    "  split: {'RS':[8,1,1]}\n",
    "  mode: full\n",
    "\"\"\"\n",
    "\n",
    "with open(\"data/config.yaml\", \"w\") as f:\n",
    "    f.write(config)"
   ]
  },
  {
   "cell_type": "code",
   "execution_count": 2,
   "id": "f1557cbd-703c-4b44-b06a-f97667cc500d",
   "metadata": {},
   "outputs": [],
   "source": [
    "import argparse\n",
    "\n",
    "parser = argparse.ArgumentParser()\n",
    "parser.add_argument(\n",
    "    \"--output_file\", type=str, default=\"hyper_example.result\", help=\"output file\"\n",
    ")\n",
    "parser.add_argument(\n",
    "    \"--display_file\", type=str, default=None, help=\"visualization file\"\n",
    ")\n",
    "parser.add_argument(\"--tool\", type=str, default=\"Hyperopt\", help=\"tuning tool\")\n",
    "parser.add_argument(\"--dataset\", type=str, default=\"movie\", help=\"dataset\")\n",
    "parser.add_argument(\n",
    "    \"--config_files\", type=str, default=\"data/config.yaml\", help=\"fixed config files\"\n",
    ")\n",
    "parser.add_argument(\"--params_file\", type=str, default=\"hyper.test\", help=\"parameters file\")\n",
    "args, _ = parser.parse_known_args()"
   ]
  },
  {
   "cell_type": "code",
   "execution_count": null,
   "id": "55d6bb39-8933-4133-90f3-7b757f1349a9",
   "metadata": {},
   "outputs": [],
   "source": [
    "from recbole.quick_start import objective_function"
   ]
  },
  {
   "cell_type": "code",
   "execution_count": 4,
   "id": "37d45837-2627-4ef2-bbb8-0e0fe9160c7e",
   "metadata": {},
   "outputs": [],
   "source": [
    "from recbole.trainer import HyperTuning"
   ]
  },
  {
   "cell_type": "code",
   "execution_count": 5,
   "id": "e622393c-6739-40a3-b40f-a39e5cafe63a",
   "metadata": {},
   "outputs": [],
   "source": [
    "def hyperopt_tune(args):\n",
    "    # plz set algo='exhaustive' to use exhaustive search, in this case, max_evals is auto set\n",
    "    # in other case, max_evals needs to be set manually\n",
    "    config_file_list = (\n",
    "        args.config_files.strip().split(\" \") if args.config_files else None\n",
    "    )\n",
    "    hp = HyperTuning(\n",
    "        objective_function,\n",
    "        algo=\"bayes\",\n",
    "        early_stop=10,\n",
    "        max_evals=100,\n",
    "        params_file=args.params_file,\n",
    "        fixed_config_file_list=config_file_list,\n",
    "        display_file=args.display_file,\n",
    "    )\n",
    "    hp.run()\n",
    "    hp.export_result(output_file=args.output_file)\n",
    "    print(\"best params: \", hp.best_params)\n",
    "    print(\"best result: \")\n",
    "    print(hp.params2result[hp.params2str(hp.best_params)])"
   ]
  },
  {
   "cell_type": "code",
   "execution_count": 6,
   "id": "b905a70c-6c1e-4ec9-979a-d4e4a8f2c020",
   "metadata": {},
   "outputs": [
    {
     "name": "stdout",
     "output_type": "stream",
     "text": [
      "running parameters:                                    \n",
      "{'beta': 0.3, 'dropout_prob': 0.3, 'gamma': 0.005, 'latent_dimension': 300}\n",
      "  0%|          | 0/100 [00:00<?, ?trial/s, best loss=?]"
     ]
    },
    {
     "name": "stderr",
     "output_type": "stream",
     "text": [
      "18 Jun 12:58    INFO  \u001b[1;35m[Training]: \u001b[0m\u001b[1;36mtrain_batch_size\u001b[0m = \u001b[1;33m[4096]\u001b[0m\u001b[1;36m train_neg_sample_args\u001b[0m: \u001b[1;33m[{'distribution': 'uniform', 'sample_num': 1, 'alpha': 1.0, 'dynamic': False, 'candidate_num': 0}]\u001b[0m\n",
      "\n",
      "18 Jun 12:58    INFO  \u001b[1;35m[Evaluation]: \u001b[0m\u001b[1;36meval_batch_size\u001b[0m = \u001b[1;33m[4096]\u001b[0m\u001b[1;36m eval_args\u001b[0m: \u001b[1;33m[{'group_by': 'user', 'order': 'RO', 'split': {'RS': [8, 1, 1]}, 'mode': 'full'}]\u001b[0m\n",
      "\n",
      "\u001b[33m18 Jun 12:58    WARNING  Max value of user's history interaction records has reached 34.22444183313749% of the total.\u001b[0m\n",
      "\n",
      "18 Jun 14:25    INFO  Loading model structure and parameters from saved/RecVAE-Jun-18-2023_12-59-02.pth\u001b[0m\n",
      "\n",
      "\u001b[33m18 Jun 14:26    WARNING  Session not detected. You should not be calling `report` outside `tuner.fit()` or while using the class API. \u001b[0m\n",
      "\n",
      "\u001b[33m18 Jun 14:26    WARNING    File \"/opt/conda/envs/bc_recbole_pip/lib/python3.8/runpy.py\", line 194, in _run_module_as_main\n",
      "    return _run_code(code, main_globals, None,\n",
      "  File \"/opt/conda/envs/bc_recbole_pip/lib/python3.8/runpy.py\", line 87, in _run_code\n",
      "    exec(code, run_globals)\n",
      "  File \"/opt/conda/envs/bc_recbole_pip/lib/python3.8/site-packages/ipykernel_launcher.py\", line 17, in <module>\n",
      "    app.launch_new_instance()\n",
      "  File \"/opt/conda/envs/bc_recbole_pip/lib/python3.8/site-packages/traitlets/config/application.py\", line 992, in launch_instance\n",
      "    app.start()\n",
      "  File \"/opt/conda/envs/bc_recbole_pip/lib/python3.8/site-packages/ipykernel/kernelapp.py\", line 711, in start\n",
      "    self.io_loop.start()\n",
      "  File \"/opt/conda/envs/bc_recbole_pip/lib/python3.8/site-packages/tornado/platform/asyncio.py\", line 215, in start\n",
      "    self.asyncio_loop.run_forever()\n",
      "  File \"/opt/conda/envs/bc_recbole_pip/lib/python3.8/asyncio/base_events.py\", line 570, in run_forever\n",
      "    self._run_once()\n",
      "  File \"/opt/conda/envs/bc_recbole_pip/lib/python3.8/asyncio/base_events.py\", line 1859, in _run_once\n",
      "    handle._run()\n",
      "  File \"/opt/conda/envs/bc_recbole_pip/lib/python3.8/asyncio/events.py\", line 81, in _run\n",
      "    self._context.run(self._callback, *self._args)\n",
      "  File \"/opt/conda/envs/bc_recbole_pip/lib/python3.8/site-packages/ipykernel/kernelbase.py\", line 510, in dispatch_queue\n",
      "    await self.process_one()\n",
      "  File \"/opt/conda/envs/bc_recbole_pip/lib/python3.8/site-packages/ipykernel/kernelbase.py\", line 499, in process_one\n",
      "    await dispatch(*args)\n",
      "  File \"/opt/conda/envs/bc_recbole_pip/lib/python3.8/site-packages/ipykernel/kernelbase.py\", line 406, in dispatch_shell\n",
      "    await result\n",
      "  File \"/opt/conda/envs/bc_recbole_pip/lib/python3.8/site-packages/ipykernel/kernelbase.py\", line 729, in execute_request\n",
      "    reply_content = await reply_content\n",
      "  File \"/opt/conda/envs/bc_recbole_pip/lib/python3.8/site-packages/ipykernel/ipkernel.py\", line 411, in do_execute\n",
      "    res = shell.run_cell(\n",
      "  File \"/opt/conda/envs/bc_recbole_pip/lib/python3.8/site-packages/ipykernel/zmqshell.py\", line 531, in run_cell\n",
      "    return super().run_cell(*args, **kwargs)\n",
      "  File \"/opt/conda/envs/bc_recbole_pip/lib/python3.8/site-packages/IPython/core/interactiveshell.py\", line 3006, in run_cell\n",
      "    result = self._run_cell(\n",
      "  File \"/opt/conda/envs/bc_recbole_pip/lib/python3.8/site-packages/IPython/core/interactiveshell.py\", line 3061, in _run_cell\n",
      "    result = runner(coro)\n",
      "  File \"/opt/conda/envs/bc_recbole_pip/lib/python3.8/site-packages/IPython/core/async_helpers.py\", line 129, in _pseudo_sync_runner\n",
      "    coro.send(None)\n",
      "  File \"/opt/conda/envs/bc_recbole_pip/lib/python3.8/site-packages/IPython/core/interactiveshell.py\", line 3266, in run_cell_async\n",
      "    has_raised = await self.run_ast_nodes(code_ast.body, cell_name,\n",
      "  File \"/opt/conda/envs/bc_recbole_pip/lib/python3.8/site-packages/IPython/core/interactiveshell.py\", line 3445, in run_ast_nodes\n",
      "    if await self.run_code(code, result, async_=asy):\n",
      "  File \"/opt/conda/envs/bc_recbole_pip/lib/python3.8/site-packages/IPython/core/interactiveshell.py\", line 3505, in run_code\n",
      "    exec(code_obj, self.user_global_ns, self.user_ns)\n",
      "  File \"/tmp/ipykernel_59114/1671078504.py\", line 1, in <module>\n",
      "    hyperopt_tune(args)\n",
      "  File \"/tmp/ipykernel_59114/2474036062.py\", line 16, in hyperopt_tune\n",
      "    hp.run()\n",
      "  File \"/opt/conda/envs/bc_recbole_pip/lib/python3.8/site-packages/recbole/trainer/hyper_tuning.py\", line 411, in run\n",
      "    fmin(\n",
      "  File \"/opt/conda/envs/bc_recbole_pip/lib/python3.8/site-packages/hyperopt/fmin.py\", line 553, in fmin\n",
      "    rval.exhaust()\n",
      "  File \"/opt/conda/envs/bc_recbole_pip/lib/python3.8/site-packages/hyperopt/fmin.py\", line 356, in exhaust\n",
      "    self.run(self.max_evals - n_done, block_until_done=self.asynchronous)\n",
      "  File \"/opt/conda/envs/bc_recbole_pip/lib/python3.8/site-packages/hyperopt/fmin.py\", line 292, in run\n",
      "    self.serial_evaluate()\n",
      "  File \"/opt/conda/envs/bc_recbole_pip/lib/python3.8/site-packages/hyperopt/fmin.py\", line 170, in serial_evaluate\n",
      "    result = self.domain.evaluate(spec, ctrl)\n",
      "  File \"/opt/conda/envs/bc_recbole_pip/lib/python3.8/site-packages/hyperopt/base.py\", line 907, in evaluate\n",
      "    rval = self.fn(pyll_rval)\n",
      "  File \"/opt/conda/envs/bc_recbole_pip/lib/python3.8/site-packages/recbole/trainer/hyper_tuning.py\", line 346, in trial\n",
      "    result_dict = self.objective_function(config_dict, self.fixed_config_file_list)\n",
      "  File \"/opt/conda/envs/bc_recbole_pip/lib/python3.8/site-packages/recbole/quick_start/quick_start.py\", line 151, in objective_function\n",
      "    tune.report(**test_result)\n",
      "\u001b[0m\n",
      "\n"
     ]
    },
    {
     "name": "stdout",
     "output_type": "stream",
     "text": [
      "current best valid score: 0.2284                       \n",
      "current best valid result:                               \n",
      "OrderedDict([('recall@10', 0.1539), ('ndcg@10', 0.2284)])\n",
      "current test result:                                     \n",
      "OrderedDict([('recall@10', 0.1753), ('ndcg@10', 0.2831)])\n",
      "  1%|          | 1/100 [1:28:32<146:06:24, 5312.97s/trial, best loss: -0.2284]"
     ]
    },
    {
     "name": "stderr",
     "output_type": "stream",
     "text": [
      "18 Jun 14:26    INFO  build_posterior_wrapper took 0.001449 seconds\u001b[0m\n",
      "\n",
      "18 Jun 14:26    INFO  TPE using 1/1 trials with best loss -0.228400\u001b[0m\n",
      "\n"
     ]
    },
    {
     "name": "stdout",
     "output_type": "stream",
     "text": [
      "running parameters:                                                           \n",
      "{'beta': 0.2, 'dropout_prob': 0.7, 'gamma': 0.01, 'latent_dimension': 200}    \n",
      "  1%|          | 1/100 [1:28:32<146:06:24, 5312.97s/trial, best loss: -0.2284]"
     ]
    },
    {
     "name": "stderr",
     "output_type": "stream",
     "text": [
      "18 Jun 14:27    INFO  \u001b[1;35m[Training]: \u001b[0m\u001b[1;36mtrain_batch_size\u001b[0m = \u001b[1;33m[4096]\u001b[0m\u001b[1;36m train_neg_sample_args\u001b[0m: \u001b[1;33m[{'distribution': 'uniform', 'sample_num': 1, 'alpha': 1.0, 'dynamic': False, 'candidate_num': 0}]\u001b[0m\n",
      "\n",
      "18 Jun 14:27    INFO  \u001b[1;35m[Evaluation]: \u001b[0m\u001b[1;36meval_batch_size\u001b[0m = \u001b[1;33m[4096]\u001b[0m\u001b[1;36m eval_args\u001b[0m: \u001b[1;33m[{'group_by': 'user', 'order': 'RO', 'split': {'RS': [8, 1, 1]}, 'mode': 'full'}]\u001b[0m\n",
      "\n",
      "\u001b[33m18 Jun 14:27    WARNING  Max value of user's history interaction records has reached 34.22444183313749% of the total.\u001b[0m\n",
      "\n",
      "18 Jun 17:17    INFO  Loading model structure and parameters from saved/RecVAE-Jun-18-2023_14-27-34.pth\u001b[0m\n",
      "\n"
     ]
    },
    {
     "name": "stdout",
     "output_type": "stream",
     "text": [
      "  2%|▏         | 2/100 [4:19:44<224:02:07, 8229.87s/trial, best loss: -0.2284]"
     ]
    },
    {
     "name": "stderr",
     "output_type": "stream",
     "text": [
      "18 Jun 17:17    INFO  build_posterior_wrapper took 0.001397 seconds\u001b[0m\n",
      "\n",
      "18 Jun 17:17    INFO  TPE using 2/2 trials with best loss -0.228400\u001b[0m\n",
      "\n"
     ]
    },
    {
     "name": "stdout",
     "output_type": "stream",
     "text": [
      "running parameters:                                                           \n",
      "{'beta': 0.2, 'dropout_prob': 0.3, 'gamma': 0.001, 'latent_dimension': 100}   \n",
      "  2%|▏         | 2/100 [4:19:44<224:02:07, 8229.87s/trial, best loss: -0.2284]"
     ]
    },
    {
     "name": "stderr",
     "output_type": "stream",
     "text": [
      "18 Jun 17:18    INFO  \u001b[1;35m[Training]: \u001b[0m\u001b[1;36mtrain_batch_size\u001b[0m = \u001b[1;33m[4096]\u001b[0m\u001b[1;36m train_neg_sample_args\u001b[0m: \u001b[1;33m[{'distribution': 'uniform', 'sample_num': 1, 'alpha': 1.0, 'dynamic': False, 'candidate_num': 0}]\u001b[0m\n",
      "\n",
      "18 Jun 17:18    INFO  \u001b[1;35m[Evaluation]: \u001b[0m\u001b[1;36meval_batch_size\u001b[0m = \u001b[1;33m[4096]\u001b[0m\u001b[1;36m eval_args\u001b[0m: \u001b[1;33m[{'group_by': 'user', 'order': 'RO', 'split': {'RS': [8, 1, 1]}, 'mode': 'full'}]\u001b[0m\n",
      "\n",
      "\u001b[33m18 Jun 17:18    WARNING  Max value of user's history interaction records has reached 34.22444183313749% of the total.\u001b[0m\n",
      "\n",
      "18 Jun 17:45    INFO  Loading model structure and parameters from saved/RecVAE-Jun-18-2023_17-18-45.pth\u001b[0m\n",
      "\n"
     ]
    },
    {
     "name": "stdout",
     "output_type": "stream",
     "text": [
      "  3%|▎         | 3/100 [4:47:53<141:16:14, 5243.04s/trial, best loss: -0.2284]"
     ]
    },
    {
     "name": "stderr",
     "output_type": "stream",
     "text": [
      "18 Jun 17:46    INFO  build_posterior_wrapper took 0.004276 seconds\u001b[0m\n",
      "\n",
      "18 Jun 17:46    INFO  TPE using 3/3 trials with best loss -0.228400\u001b[0m\n",
      "\n"
     ]
    },
    {
     "name": "stdout",
     "output_type": "stream",
     "text": [
      "running parameters:                                                           \n",
      "{'beta': 0.2, 'dropout_prob': 0.5, 'gamma': 0.01, 'latent_dimension': 200}    \n",
      "  3%|▎         | 3/100 [4:47:53<141:16:14, 5243.04s/trial, best loss: -0.2284]"
     ]
    },
    {
     "name": "stderr",
     "output_type": "stream",
     "text": [
      "18 Jun 17:46    INFO  \u001b[1;35m[Training]: \u001b[0m\u001b[1;36mtrain_batch_size\u001b[0m = \u001b[1;33m[4096]\u001b[0m\u001b[1;36m train_neg_sample_args\u001b[0m: \u001b[1;33m[{'distribution': 'uniform', 'sample_num': 1, 'alpha': 1.0, 'dynamic': False, 'candidate_num': 0}]\u001b[0m\n",
      "\n",
      "18 Jun 17:46    INFO  \u001b[1;35m[Evaluation]: \u001b[0m\u001b[1;36meval_batch_size\u001b[0m = \u001b[1;33m[4096]\u001b[0m\u001b[1;36m eval_args\u001b[0m: \u001b[1;33m[{'group_by': 'user', 'order': 'RO', 'split': {'RS': [8, 1, 1]}, 'mode': 'full'}]\u001b[0m\n",
      "\n",
      "\u001b[33m18 Jun 17:46    WARNING  Max value of user's history interaction records has reached 34.22444183313749% of the total.\u001b[0m\n",
      "\n",
      "18 Jun 20:42    INFO  Loading model structure and parameters from saved/RecVAE-Jun-18-2023_17-46-54.pth\u001b[0m\n",
      "\n"
     ]
    },
    {
     "name": "stdout",
     "output_type": "stream",
     "text": [
      "  4%|▍         | 4/100 [7:45:33<196:50:52, 7381.80s/trial, best loss: -0.2284]"
     ]
    },
    {
     "name": "stderr",
     "output_type": "stream",
     "text": [
      "18 Jun 20:43    INFO  build_posterior_wrapper took 0.001394 seconds\u001b[0m\n",
      "\n",
      "18 Jun 20:43    INFO  TPE using 4/4 trials with best loss -0.228400\u001b[0m\n",
      "\n"
     ]
    },
    {
     "name": "stdout",
     "output_type": "stream",
     "text": [
      "running parameters:                                                           \n",
      "{'beta': 0.2, 'dropout_prob': 0.5, 'gamma': 0.001, 'latent_dimension': 300}   \n",
      "  4%|▍         | 4/100 [7:45:33<196:50:52, 7381.80s/trial, best loss: -0.2284]"
     ]
    },
    {
     "name": "stderr",
     "output_type": "stream",
     "text": [
      "18 Jun 20:44    INFO  \u001b[1;35m[Training]: \u001b[0m\u001b[1;36mtrain_batch_size\u001b[0m = \u001b[1;33m[4096]\u001b[0m\u001b[1;36m train_neg_sample_args\u001b[0m: \u001b[1;33m[{'distribution': 'uniform', 'sample_num': 1, 'alpha': 1.0, 'dynamic': False, 'candidate_num': 0}]\u001b[0m\n",
      "\n",
      "18 Jun 20:44    INFO  \u001b[1;35m[Evaluation]: \u001b[0m\u001b[1;36meval_batch_size\u001b[0m = \u001b[1;33m[4096]\u001b[0m\u001b[1;36m eval_args\u001b[0m: \u001b[1;33m[{'group_by': 'user', 'order': 'RO', 'split': {'RS': [8, 1, 1]}, 'mode': 'full'}]\u001b[0m\n",
      "\n",
      "\u001b[33m18 Jun 20:44    WARNING  Max value of user's history interaction records has reached 34.22444183313749% of the total.\u001b[0m\n",
      "\n",
      "18 Jun 21:25    INFO  Loading model structure and parameters from saved/RecVAE-Jun-18-2023_20-44-35.pth\u001b[0m\n",
      "\n"
     ]
    },
    {
     "name": "stdout",
     "output_type": "stream",
     "text": [
      "  5%|▌         | 5/100 [8:28:11<148:53:39, 5642.31s/trial, best loss: -0.2284]"
     ]
    },
    {
     "name": "stderr",
     "output_type": "stream",
     "text": [
      "18 Jun 21:26    INFO  build_posterior_wrapper took 0.001391 seconds\u001b[0m\n",
      "\n",
      "18 Jun 21:26    INFO  TPE using 5/5 trials with best loss -0.228400\u001b[0m\n",
      "\n"
     ]
    },
    {
     "name": "stdout",
     "output_type": "stream",
     "text": [
      "running parameters:                                                           \n",
      "{'beta': 0.3, 'dropout_prob': 0.7, 'gamma': 0.005, 'latent_dimension': 200}   \n",
      "  5%|▌         | 5/100 [8:28:11<148:53:39, 5642.31s/trial, best loss: -0.2284]"
     ]
    },
    {
     "name": "stderr",
     "output_type": "stream",
     "text": [
      "18 Jun 21:27    INFO  \u001b[1;35m[Training]: \u001b[0m\u001b[1;36mtrain_batch_size\u001b[0m = \u001b[1;33m[4096]\u001b[0m\u001b[1;36m train_neg_sample_args\u001b[0m: \u001b[1;33m[{'distribution': 'uniform', 'sample_num': 1, 'alpha': 1.0, 'dynamic': False, 'candidate_num': 0}]\u001b[0m\n",
      "\n",
      "18 Jun 21:27    INFO  \u001b[1;35m[Evaluation]: \u001b[0m\u001b[1;36meval_batch_size\u001b[0m = \u001b[1;33m[4096]\u001b[0m\u001b[1;36m eval_args\u001b[0m: \u001b[1;33m[{'group_by': 'user', 'order': 'RO', 'split': {'RS': [8, 1, 1]}, 'mode': 'full'}]\u001b[0m\n",
      "\n",
      "\u001b[33m18 Jun 21:27    WARNING  Max value of user's history interaction records has reached 34.22444183313749% of the total.\u001b[0m\n",
      "\n",
      "19 Jun 00:08    INFO  Loading model structure and parameters from saved/RecVAE-Jun-18-2023_21-27-11.pth\u001b[0m\n",
      "\n"
     ]
    },
    {
     "name": "stdout",
     "output_type": "stream",
     "text": [
      "  6%|▌         | 6/100 [11:11:04<183:59:45, 7046.65s/trial, best loss: -0.2284]"
     ]
    },
    {
     "name": "stderr",
     "output_type": "stream",
     "text": [
      "19 Jun 00:09    INFO  build_posterior_wrapper took 0.001355 seconds\u001b[0m\n",
      "\n",
      "19 Jun 00:09    INFO  TPE using 6/6 trials with best loss -0.228400\u001b[0m\n",
      "\n"
     ]
    },
    {
     "name": "stdout",
     "output_type": "stream",
     "text": [
      "running parameters:                                                            \n",
      "{'beta': 0.3, 'dropout_prob': 0.5, 'gamma': 0.005, 'latent_dimension': 100}    \n",
      "  6%|▌         | 6/100 [11:11:04<183:59:45, 7046.65s/trial, best loss: -0.2284]"
     ]
    },
    {
     "name": "stderr",
     "output_type": "stream",
     "text": [
      "19 Jun 00:09    INFO  \u001b[1;35m[Training]: \u001b[0m\u001b[1;36mtrain_batch_size\u001b[0m = \u001b[1;33m[4096]\u001b[0m\u001b[1;36m train_neg_sample_args\u001b[0m: \u001b[1;33m[{'distribution': 'uniform', 'sample_num': 1, 'alpha': 1.0, 'dynamic': False, 'candidate_num': 0}]\u001b[0m\n",
      "\n",
      "19 Jun 00:09    INFO  \u001b[1;35m[Evaluation]: \u001b[0m\u001b[1;36meval_batch_size\u001b[0m = \u001b[1;33m[4096]\u001b[0m\u001b[1;36m eval_args\u001b[0m: \u001b[1;33m[{'group_by': 'user', 'order': 'RO', 'split': {'RS': [8, 1, 1]}, 'mode': 'full'}]\u001b[0m\n",
      "\n",
      "\u001b[33m19 Jun 00:10    WARNING  Max value of user's history interaction records has reached 34.22444183313749% of the total.\u001b[0m\n",
      "\n",
      "19 Jun 02:19    INFO  Loading model structure and parameters from saved/RecVAE-Jun-19-2023_00-10-06.pth\u001b[0m\n",
      "\n"
     ]
    },
    {
     "name": "stdout",
     "output_type": "stream",
     "text": [
      "current best valid score: 0.2286                                               \n",
      "current best valid result:                                                     \n",
      "OrderedDict([('recall@10', 0.1552), ('ndcg@10', 0.2286)])                      \n",
      "current test result:                                                           \n",
      "OrderedDict([('recall@10', 0.177), ('ndcg@10', 0.2844)])                       \n",
      "  7%|▋         | 7/100 [13:21:45<188:44:49, 7306.34s/trial, best loss: -0.2286]"
     ]
    },
    {
     "name": "stderr",
     "output_type": "stream",
     "text": [
      "19 Jun 02:19    INFO  build_posterior_wrapper took 0.001359 seconds\u001b[0m\n",
      "\n",
      "19 Jun 02:19    INFO  TPE using 7/7 trials with best loss -0.228600\u001b[0m\n",
      "\n"
     ]
    },
    {
     "name": "stdout",
     "output_type": "stream",
     "text": [
      "running parameters:                                                            \n",
      "{'beta': 0.1, 'dropout_prob': 0.5, 'gamma': 0.001, 'latent_dimension': 200}    \n",
      "  7%|▋         | 7/100 [13:21:45<188:44:49, 7306.34s/trial, best loss: -0.2286]"
     ]
    },
    {
     "name": "stderr",
     "output_type": "stream",
     "text": [
      "19 Jun 02:20    INFO  \u001b[1;35m[Training]: \u001b[0m\u001b[1;36mtrain_batch_size\u001b[0m = \u001b[1;33m[4096]\u001b[0m\u001b[1;36m train_neg_sample_args\u001b[0m: \u001b[1;33m[{'distribution': 'uniform', 'sample_num': 1, 'alpha': 1.0, 'dynamic': False, 'candidate_num': 0}]\u001b[0m\n",
      "\n",
      "19 Jun 02:20    INFO  \u001b[1;35m[Evaluation]: \u001b[0m\u001b[1;36meval_batch_size\u001b[0m = \u001b[1;33m[4096]\u001b[0m\u001b[1;36m eval_args\u001b[0m: \u001b[1;33m[{'group_by': 'user', 'order': 'RO', 'split': {'RS': [8, 1, 1]}, 'mode': 'full'}]\u001b[0m\n",
      "\n",
      "\u001b[33m19 Jun 02:20    WARNING  Max value of user's history interaction records has reached 34.22444183313749% of the total.\u001b[0m\n",
      "\n",
      "19 Jun 03:06    INFO  Loading model structure and parameters from saved/RecVAE-Jun-19-2023_02-20-46.pth\u001b[0m\n",
      "\n"
     ]
    },
    {
     "name": "stdout",
     "output_type": "stream",
     "text": [
      "  8%|▊         | 8/100 [14:08:54<150:17:21, 5880.88s/trial, best loss: -0.2286]"
     ]
    },
    {
     "name": "stderr",
     "output_type": "stream",
     "text": [
      "19 Jun 03:07    INFO  build_posterior_wrapper took 0.003728 seconds\u001b[0m\n",
      "\n",
      "19 Jun 03:07    INFO  TPE using 8/8 trials with best loss -0.228600\u001b[0m\n",
      "\n"
     ]
    },
    {
     "name": "stdout",
     "output_type": "stream",
     "text": [
      "running parameters:                                                            \n",
      "{'beta': 0.1, 'dropout_prob': 0.7, 'gamma': 0.001, 'latent_dimension': 200}    \n",
      "  8%|▊         | 8/100 [14:08:54<150:17:21, 5880.88s/trial, best loss: -0.2286]"
     ]
    },
    {
     "name": "stderr",
     "output_type": "stream",
     "text": [
      "19 Jun 03:07    INFO  \u001b[1;35m[Training]: \u001b[0m\u001b[1;36mtrain_batch_size\u001b[0m = \u001b[1;33m[4096]\u001b[0m\u001b[1;36m train_neg_sample_args\u001b[0m: \u001b[1;33m[{'distribution': 'uniform', 'sample_num': 1, 'alpha': 1.0, 'dynamic': False, 'candidate_num': 0}]\u001b[0m\n",
      "\n",
      "19 Jun 03:07    INFO  \u001b[1;35m[Evaluation]: \u001b[0m\u001b[1;36meval_batch_size\u001b[0m = \u001b[1;33m[4096]\u001b[0m\u001b[1;36m eval_args\u001b[0m: \u001b[1;33m[{'group_by': 'user', 'order': 'RO', 'split': {'RS': [8, 1, 1]}, 'mode': 'full'}]\u001b[0m\n",
      "\n",
      "\u001b[33m19 Jun 03:07    WARNING  Max value of user's history interaction records has reached 34.22444183313749% of the total.\u001b[0m\n",
      "\n",
      "19 Jun 04:00    INFO  Loading model structure and parameters from saved/RecVAE-Jun-19-2023_03-07-54.pth\u001b[0m\n",
      "\n"
     ]
    },
    {
     "name": "stdout",
     "output_type": "stream",
     "text": [
      "current best valid score: 0.2342                                               \n",
      "current best valid result:                                                     \n",
      "OrderedDict([('recall@10', 0.1586), ('ndcg@10', 0.2342)])                      \n",
      "current test result:                                                           \n",
      "OrderedDict([('recall@10', 0.1825), ('ndcg@10', 0.2931)])                      \n",
      "  9%|▉         | 9/100 [15:02:47<127:44:09, 5053.29s/trial, best loss: -0.2342]"
     ]
    },
    {
     "name": "stderr",
     "output_type": "stream",
     "text": [
      "19 Jun 04:01    INFO  build_posterior_wrapper took 0.001350 seconds\u001b[0m\n",
      "\n",
      "19 Jun 04:01    INFO  TPE using 9/9 trials with best loss -0.234200\u001b[0m\n",
      "\n"
     ]
    },
    {
     "name": "stdout",
     "output_type": "stream",
     "text": [
      "running parameters:                                                            \n",
      "{'beta': 0.3, 'dropout_prob': 0.3, 'gamma': 0.01, 'latent_dimension': 200}     \n",
      "  9%|▉         | 9/100 [15:02:47<127:44:09, 5053.29s/trial, best loss: -0.2342]"
     ]
    },
    {
     "name": "stderr",
     "output_type": "stream",
     "text": [
      "19 Jun 04:01    INFO  \u001b[1;35m[Training]: \u001b[0m\u001b[1;36mtrain_batch_size\u001b[0m = \u001b[1;33m[4096]\u001b[0m\u001b[1;36m train_neg_sample_args\u001b[0m: \u001b[1;33m[{'distribution': 'uniform', 'sample_num': 1, 'alpha': 1.0, 'dynamic': False, 'candidate_num': 0}]\u001b[0m\n",
      "\n",
      "19 Jun 04:01    INFO  \u001b[1;35m[Evaluation]: \u001b[0m\u001b[1;36meval_batch_size\u001b[0m = \u001b[1;33m[4096]\u001b[0m\u001b[1;36m eval_args\u001b[0m: \u001b[1;33m[{'group_by': 'user', 'order': 'RO', 'split': {'RS': [8, 1, 1]}, 'mode': 'full'}]\u001b[0m\n",
      "\n",
      "\u001b[33m19 Jun 04:01    WARNING  Max value of user's history interaction records has reached 34.22444183313749% of the total.\u001b[0m\n",
      "\n",
      "19 Jun 06:00    INFO  Loading model structure and parameters from saved/RecVAE-Jun-19-2023_04-01-49.pth\u001b[0m\n",
      "\n"
     ]
    },
    {
     "name": "stdout",
     "output_type": "stream",
     "text": [
      " 10%|█         | 10/100 [17:03:00<142:59:48, 5719.87s/trial, best loss: -0.2342]"
     ]
    },
    {
     "name": "stderr",
     "output_type": "stream",
     "text": [
      "19 Jun 06:01    INFO  build_posterior_wrapper took 0.001350 seconds\u001b[0m\n",
      "\n",
      "19 Jun 06:01    INFO  TPE using 10/10 trials with best loss -0.234200\u001b[0m\n",
      "\n"
     ]
    },
    {
     "name": "stdout",
     "output_type": "stream",
     "text": [
      "running parameters:                                                             \n",
      "{'beta': 0.1, 'dropout_prob': 0.3, 'gamma': 0.01, 'latent_dimension': 100}      \n",
      " 10%|█         | 10/100 [17:03:00<142:59:48, 5719.87s/trial, best loss: -0.2342]"
     ]
    },
    {
     "name": "stderr",
     "output_type": "stream",
     "text": [
      "19 Jun 06:01    INFO  \u001b[1;35m[Training]: \u001b[0m\u001b[1;36mtrain_batch_size\u001b[0m = \u001b[1;33m[4096]\u001b[0m\u001b[1;36m train_neg_sample_args\u001b[0m: \u001b[1;33m[{'distribution': 'uniform', 'sample_num': 1, 'alpha': 1.0, 'dynamic': False, 'candidate_num': 0}]\u001b[0m\n",
      "\n",
      "19 Jun 06:01    INFO  \u001b[1;35m[Evaluation]: \u001b[0m\u001b[1;36meval_batch_size\u001b[0m = \u001b[1;33m[4096]\u001b[0m\u001b[1;36m eval_args\u001b[0m: \u001b[1;33m[{'group_by': 'user', 'order': 'RO', 'split': {'RS': [8, 1, 1]}, 'mode': 'full'}]\u001b[0m\n",
      "\n",
      "\u001b[33m19 Jun 06:01    WARNING  Max value of user's history interaction records has reached 34.22444183313749% of the total.\u001b[0m\n",
      "\n",
      "19 Jun 08:00    INFO  Loading model structure and parameters from saved/RecVAE-Jun-19-2023_06-02-02.pth\u001b[0m\n",
      "\n"
     ]
    },
    {
     "name": "stdout",
     "output_type": "stream",
     "text": [
      " 11%|█         | 11/100 [19:03:13<152:42:35, 6177.03s/trial, best loss: -0.2342]"
     ]
    },
    {
     "name": "stderr",
     "output_type": "stream",
     "text": [
      "19 Jun 08:01    INFO  build_posterior_wrapper took 0.001358 seconds\u001b[0m\n",
      "\n",
      "19 Jun 08:01    INFO  TPE using 11/11 trials with best loss -0.234200\u001b[0m\n",
      "\n"
     ]
    },
    {
     "name": "stdout",
     "output_type": "stream",
     "text": [
      "running parameters:                                                             \n",
      "{'beta': 0.1, 'dropout_prob': 0.3, 'gamma': 0.001, 'latent_dimension': 300}     \n",
      " 11%|█         | 11/100 [19:03:14<152:42:35, 6177.03s/trial, best loss: -0.2342]"
     ]
    },
    {
     "name": "stderr",
     "output_type": "stream",
     "text": [
      "19 Jun 08:02    INFO  \u001b[1;35m[Training]: \u001b[0m\u001b[1;36mtrain_batch_size\u001b[0m = \u001b[1;33m[4096]\u001b[0m\u001b[1;36m train_neg_sample_args\u001b[0m: \u001b[1;33m[{'distribution': 'uniform', 'sample_num': 1, 'alpha': 1.0, 'dynamic': False, 'candidate_num': 0}]\u001b[0m\n",
      "\n",
      "19 Jun 08:02    INFO  \u001b[1;35m[Evaluation]: \u001b[0m\u001b[1;36meval_batch_size\u001b[0m = \u001b[1;33m[4096]\u001b[0m\u001b[1;36m eval_args\u001b[0m: \u001b[1;33m[{'group_by': 'user', 'order': 'RO', 'split': {'RS': [8, 1, 1]}, 'mode': 'full'}]\u001b[0m\n",
      "\n",
      "\u001b[33m19 Jun 08:02    WARNING  Max value of user's history interaction records has reached 34.22444183313749% of the total.\u001b[0m\n",
      "\n",
      "19 Jun 08:30    INFO  Loading model structure and parameters from saved/RecVAE-Jun-19-2023_08-02-14.pth\u001b[0m\n",
      "\n"
     ]
    },
    {
     "name": "stdout",
     "output_type": "stream",
     "text": [
      " 12%|█▏        | 12/100 [19:33:01<118:21:14, 4841.76s/trial, best loss: -0.2342]"
     ]
    },
    {
     "name": "stderr",
     "output_type": "stream",
     "text": [
      "19 Jun 08:31    INFO  build_posterior_wrapper took 0.001435 seconds\u001b[0m\n",
      "\n",
      "19 Jun 08:31    INFO  TPE using 12/12 trials with best loss -0.234200\u001b[0m\n",
      "\n"
     ]
    },
    {
     "name": "stdout",
     "output_type": "stream",
     "text": [
      "running parameters:                                                             \n",
      "{'beta': 0.2, 'dropout_prob': 0.7, 'gamma': 0.005, 'latent_dimension': 200}     \n",
      " 12%|█▏        | 12/100 [19:33:01<118:21:14, 4841.76s/trial, best loss: -0.2342]"
     ]
    },
    {
     "name": "stderr",
     "output_type": "stream",
     "text": [
      "19 Jun 08:31    INFO  \u001b[1;35m[Training]: \u001b[0m\u001b[1;36mtrain_batch_size\u001b[0m = \u001b[1;33m[4096]\u001b[0m\u001b[1;36m train_neg_sample_args\u001b[0m: \u001b[1;33m[{'distribution': 'uniform', 'sample_num': 1, 'alpha': 1.0, 'dynamic': False, 'candidate_num': 0}]\u001b[0m\n",
      "\n",
      "19 Jun 08:31    INFO  \u001b[1;35m[Evaluation]: \u001b[0m\u001b[1;36meval_batch_size\u001b[0m = \u001b[1;33m[4096]\u001b[0m\u001b[1;36m eval_args\u001b[0m: \u001b[1;33m[{'group_by': 'user', 'order': 'RO', 'split': {'RS': [8, 1, 1]}, 'mode': 'full'}]\u001b[0m\n",
      "\n",
      "\u001b[33m19 Jun 08:31    WARNING  Max value of user's history interaction records has reached 34.22444183313749% of the total.\u001b[0m\n",
      "\n",
      "19 Jun 11:12    INFO  Loading model structure and parameters from saved/RecVAE-Jun-19-2023_08-32-02.pth\u001b[0m\n",
      "\n"
     ]
    },
    {
     "name": "stdout",
     "output_type": "stream",
     "text": [
      " 13%|█▎        | 13/100 [22:15:26<152:54:05, 6326.96s/trial, best loss: -0.2342]"
     ]
    },
    {
     "name": "stderr",
     "output_type": "stream",
     "text": [
      "19 Jun 11:13    INFO  build_posterior_wrapper took 0.001372 seconds\u001b[0m\n",
      "\n",
      "19 Jun 11:13    INFO  TPE using 13/13 trials with best loss -0.234200\u001b[0m\n",
      "\n"
     ]
    },
    {
     "name": "stdout",
     "output_type": "stream",
     "text": [
      "running parameters:                                                             \n",
      "{'beta': 0.3, 'dropout_prob': 0.7, 'gamma': 0.01, 'latent_dimension': 200}      \n",
      " 13%|█▎        | 13/100 [22:15:26<152:54:05, 6326.96s/trial, best loss: -0.2342]"
     ]
    },
    {
     "name": "stderr",
     "output_type": "stream",
     "text": [
      "19 Jun 11:14    INFO  \u001b[1;35m[Training]: \u001b[0m\u001b[1;36mtrain_batch_size\u001b[0m = \u001b[1;33m[4096]\u001b[0m\u001b[1;36m train_neg_sample_args\u001b[0m: \u001b[1;33m[{'distribution': 'uniform', 'sample_num': 1, 'alpha': 1.0, 'dynamic': False, 'candidate_num': 0}]\u001b[0m\n",
      "\n",
      "19 Jun 11:14    INFO  \u001b[1;35m[Evaluation]: \u001b[0m\u001b[1;36meval_batch_size\u001b[0m = \u001b[1;33m[4096]\u001b[0m\u001b[1;36m eval_args\u001b[0m: \u001b[1;33m[{'group_by': 'user', 'order': 'RO', 'split': {'RS': [8, 1, 1]}, 'mode': 'full'}]\u001b[0m\n",
      "\n",
      "\u001b[33m19 Jun 11:14    WARNING  Max value of user's history interaction records has reached 34.22444183313749% of the total.\u001b[0m\n",
      "\n",
      "19 Jun 14:04    INFO  Loading model structure and parameters from saved/RecVAE-Jun-19-2023_11-14-27.pth\u001b[0m\n",
      "\n"
     ]
    },
    {
     "name": "stdout",
     "output_type": "stream",
     "text": [
      " 14%|█▍        | 14/100 [25:07:22<179:55:34, 7531.80s/trial, best loss: -0.2342]"
     ]
    },
    {
     "name": "stderr",
     "output_type": "stream",
     "text": [
      "19 Jun 14:05    INFO  build_posterior_wrapper took 0.001431 seconds\u001b[0m\n",
      "\n",
      "19 Jun 14:05    INFO  TPE using 14/14 trials with best loss -0.234200\u001b[0m\n",
      "\n"
     ]
    },
    {
     "name": "stdout",
     "output_type": "stream",
     "text": [
      "running parameters:                                                             \n",
      "{'beta': 0.3, 'dropout_prob': 0.7, 'gamma': 0.01, 'latent_dimension': 300}      \n",
      " 14%|█▍        | 14/100 [25:07:22<179:55:34, 7531.80s/trial, best loss: -0.2342]"
     ]
    },
    {
     "name": "stderr",
     "output_type": "stream",
     "text": [
      "19 Jun 14:06    INFO  \u001b[1;35m[Training]: \u001b[0m\u001b[1;36mtrain_batch_size\u001b[0m = \u001b[1;33m[4096]\u001b[0m\u001b[1;36m train_neg_sample_args\u001b[0m: \u001b[1;33m[{'distribution': 'uniform', 'sample_num': 1, 'alpha': 1.0, 'dynamic': False, 'candidate_num': 0}]\u001b[0m\n",
      "\n",
      "19 Jun 14:06    INFO  \u001b[1;35m[Evaluation]: \u001b[0m\u001b[1;36meval_batch_size\u001b[0m = \u001b[1;33m[4096]\u001b[0m\u001b[1;36m eval_args\u001b[0m: \u001b[1;33m[{'group_by': 'user', 'order': 'RO', 'split': {'RS': [8, 1, 1]}, 'mode': 'full'}]\u001b[0m\n",
      "\n",
      "\u001b[33m19 Jun 14:06    WARNING  Max value of user's history interaction records has reached 34.22444183313749% of the total.\u001b[0m\n",
      "\n",
      "19 Jun 16:58    INFO  Loading model structure and parameters from saved/RecVAE-Jun-19-2023_14-06-23.pth\u001b[0m\n",
      "\n"
     ]
    },
    {
     "name": "stdout",
     "output_type": "stream",
     "text": [
      " 15%|█▌        | 15/100 [28:01:23<198:32:24, 8408.76s/trial, best loss: -0.2342]"
     ]
    },
    {
     "name": "stderr",
     "output_type": "stream",
     "text": [
      "19 Jun 16:59    INFO  build_posterior_wrapper took 0.001416 seconds\u001b[0m\n",
      "\n",
      "19 Jun 16:59    INFO  TPE using 15/15 trials with best loss -0.234200\u001b[0m\n",
      "\n"
     ]
    },
    {
     "name": "stdout",
     "output_type": "stream",
     "text": [
      "running parameters:                                                             \n",
      "{'beta': 0.1, 'dropout_prob': 0.7, 'gamma': 0.005, 'latent_dimension': 300}     \n",
      " 15%|█▌        | 15/100 [28:01:23<198:32:24, 8408.76s/trial, best loss: -0.2342]"
     ]
    },
    {
     "name": "stderr",
     "output_type": "stream",
     "text": [
      "19 Jun 17:00    INFO  \u001b[1;35m[Training]: \u001b[0m\u001b[1;36mtrain_batch_size\u001b[0m = \u001b[1;33m[4096]\u001b[0m\u001b[1;36m train_neg_sample_args\u001b[0m: \u001b[1;33m[{'distribution': 'uniform', 'sample_num': 1, 'alpha': 1.0, 'dynamic': False, 'candidate_num': 0}]\u001b[0m\n",
      "\n",
      "19 Jun 17:00    INFO  \u001b[1;35m[Evaluation]: \u001b[0m\u001b[1;36meval_batch_size\u001b[0m = \u001b[1;33m[4096]\u001b[0m\u001b[1;36m eval_args\u001b[0m: \u001b[1;33m[{'group_by': 'user', 'order': 'RO', 'split': {'RS': [8, 1, 1]}, 'mode': 'full'}]\u001b[0m\n",
      "\n",
      "\u001b[33m19 Jun 17:00    WARNING  Max value of user's history interaction records has reached 34.22444183313749% of the total.\u001b[0m\n",
      "\n",
      "19 Jun 19:33    INFO  Loading model structure and parameters from saved/RecVAE-Jun-19-2023_17-00-25.pth\u001b[0m\n",
      "\n"
     ]
    },
    {
     "name": "stdout",
     "output_type": "stream",
     "text": [
      " 16%|█▌        | 16/100 [30:36:15<202:24:37, 8674.74s/trial, best loss: -0.2342]"
     ]
    },
    {
     "name": "stderr",
     "output_type": "stream",
     "text": [
      "19 Jun 19:34    INFO  build_posterior_wrapper took 0.001406 seconds\u001b[0m\n",
      "\n",
      "19 Jun 19:34    INFO  TPE using 16/16 trials with best loss -0.234200\u001b[0m\n",
      "\n"
     ]
    },
    {
     "name": "stdout",
     "output_type": "stream",
     "text": [
      "running parameters:                                                             \n",
      "{'beta': 0.2, 'dropout_prob': 0.5, 'gamma': 0.001, 'latent_dimension': 100}     \n",
      " 16%|█▌        | 16/100 [30:36:15<202:24:37, 8674.74s/trial, best loss: -0.2342]"
     ]
    },
    {
     "name": "stderr",
     "output_type": "stream",
     "text": [
      "19 Jun 19:35    INFO  \u001b[1;35m[Training]: \u001b[0m\u001b[1;36mtrain_batch_size\u001b[0m = \u001b[1;33m[4096]\u001b[0m\u001b[1;36m train_neg_sample_args\u001b[0m: \u001b[1;33m[{'distribution': 'uniform', 'sample_num': 1, 'alpha': 1.0, 'dynamic': False, 'candidate_num': 0}]\u001b[0m\n",
      "\n",
      "19 Jun 19:35    INFO  \u001b[1;35m[Evaluation]: \u001b[0m\u001b[1;36meval_batch_size\u001b[0m = \u001b[1;33m[4096]\u001b[0m\u001b[1;36m eval_args\u001b[0m: \u001b[1;33m[{'group_by': 'user', 'order': 'RO', 'split': {'RS': [8, 1, 1]}, 'mode': 'full'}]\u001b[0m\n",
      "\n",
      "\u001b[33m19 Jun 19:35    WARNING  Max value of user's history interaction records has reached 34.22444183313749% of the total.\u001b[0m\n",
      "\n",
      "19 Jun 20:13    INFO  Loading model structure and parameters from saved/RecVAE-Jun-19-2023_19-35-15.pth\u001b[0m\n",
      "\n"
     ]
    },
    {
     "name": "stdout",
     "output_type": "stream",
     "text": [
      " 17%|█▋        | 17/100 [31:16:19<156:31:46, 6789.23s/trial, best loss: -0.2342]"
     ]
    },
    {
     "name": "stderr",
     "output_type": "stream",
     "text": [
      "19 Jun 20:14    INFO  build_posterior_wrapper took 0.001362 seconds\u001b[0m\n",
      "\n",
      "19 Jun 20:14    INFO  TPE using 17/17 trials with best loss -0.234200\u001b[0m\n",
      "\n"
     ]
    },
    {
     "name": "stdout",
     "output_type": "stream",
     "text": [
      "running parameters:                                                             \n",
      "{'beta': 0.2, 'dropout_prob': 0.3, 'gamma': 0.001, 'latent_dimension': 100}     \n",
      " 17%|█▋        | 17/100 [31:16:19<156:31:46, 6789.23s/trial, best loss: -0.2342]"
     ]
    },
    {
     "name": "stderr",
     "output_type": "stream",
     "text": [
      "19 Jun 20:15    INFO  \u001b[1;35m[Training]: \u001b[0m\u001b[1;36mtrain_batch_size\u001b[0m = \u001b[1;33m[4096]\u001b[0m\u001b[1;36m train_neg_sample_args\u001b[0m: \u001b[1;33m[{'distribution': 'uniform', 'sample_num': 1, 'alpha': 1.0, 'dynamic': False, 'candidate_num': 0}]\u001b[0m\n",
      "\n",
      "19 Jun 20:15    INFO  \u001b[1;35m[Evaluation]: \u001b[0m\u001b[1;36meval_batch_size\u001b[0m = \u001b[1;33m[4096]\u001b[0m\u001b[1;36m eval_args\u001b[0m: \u001b[1;33m[{'group_by': 'user', 'order': 'RO', 'split': {'RS': [8, 1, 1]}, 'mode': 'full'}]\u001b[0m\n",
      "\n",
      "\u001b[33m19 Jun 20:15    WARNING  Max value of user's history interaction records has reached 34.22444183313749% of the total.\u001b[0m\n",
      "\n",
      "19 Jun 20:45    INFO  Loading model structure and parameters from saved/RecVAE-Jun-19-2023_20-15-20.pth\u001b[0m\n",
      "\n"
     ]
    },
    {
     "name": "stdout",
     "output_type": "stream",
     "text": [
      " 18%|█▊        | 18/100 [31:48:00<121:11:06, 5320.33s/trial, best loss: -0.2342]"
     ]
    },
    {
     "name": "stderr",
     "output_type": "stream",
     "text": [
      "19 Jun 20:46    INFO  build_posterior_wrapper took 0.001412 seconds\u001b[0m\n",
      "\n",
      "19 Jun 20:46    INFO  TPE using 18/18 trials with best loss -0.234200\u001b[0m\n",
      "\n"
     ]
    },
    {
     "name": "stdout",
     "output_type": "stream",
     "text": [
      "running parameters:                                                             \n",
      "{'beta': 0.1, 'dropout_prob': 0.3, 'gamma': 0.001, 'latent_dimension': 100}     \n",
      " 18%|█▊        | 18/100 [31:48:00<121:11:06, 5320.33s/trial, best loss: -0.2342]"
     ]
    },
    {
     "name": "stderr",
     "output_type": "stream",
     "text": [
      "19 Jun 20:46    INFO  \u001b[1;35m[Training]: \u001b[0m\u001b[1;36mtrain_batch_size\u001b[0m = \u001b[1;33m[4096]\u001b[0m\u001b[1;36m train_neg_sample_args\u001b[0m: \u001b[1;33m[{'distribution': 'uniform', 'sample_num': 1, 'alpha': 1.0, 'dynamic': False, 'candidate_num': 0}]\u001b[0m\n",
      "\n",
      "19 Jun 20:46    INFO  \u001b[1;35m[Evaluation]: \u001b[0m\u001b[1;36meval_batch_size\u001b[0m = \u001b[1;33m[4096]\u001b[0m\u001b[1;36m eval_args\u001b[0m: \u001b[1;33m[{'group_by': 'user', 'order': 'RO', 'split': {'RS': [8, 1, 1]}, 'mode': 'full'}]\u001b[0m\n",
      "\n",
      "\u001b[33m19 Jun 20:46    WARNING  Max value of user's history interaction records has reached 34.22444183313749% of the total.\u001b[0m\n",
      "\n",
      "19 Jun 21:19    INFO  Loading model structure and parameters from saved/RecVAE-Jun-19-2023_20-47-02.pth\u001b[0m\n",
      "\n",
      "19 Jun 21:20    INFO  Early stop triggered. Stopping iterations as condition is reach.\u001b[0m\n",
      "\n"
     ]
    },
    {
     "name": "stdout",
     "output_type": "stream",
     "text": [
      " 19%|█▉        | 19/100 [32:22:44<138:02:14, 6134.99s/trial, best loss: -0.2342]\n",
      "best params:  {'beta': 0.1, 'dropout_prob': 0.7, 'gamma': 0.001, 'latent_dimension': 200}\n",
      "best result: \n",
      "{'model': 'RecVAE', 'best_valid_score': 0.2342, 'valid_score_bigger': True, 'best_valid_result': OrderedDict([('recall@10', 0.1586), ('ndcg@10', 0.2342)]), 'test_result': OrderedDict([('recall@10', 0.1825), ('ndcg@10', 0.2931)])}\n"
     ]
    }
   ],
   "source": [
    "hyperopt_tune(args)"
   ]
  }
 ],
 "metadata": {
  "kernelspec": {
   "display_name": "bc_recbole_pip",
   "language": "python",
   "name": "bc_recbole_pip"
  },
  "language_info": {
   "codemirror_mode": {
    "name": "ipython",
    "version": 3
   },
   "file_extension": ".py",
   "mimetype": "text/x-python",
   "name": "python",
   "nbconvert_exporter": "python",
   "pygments_lexer": "ipython3",
   "version": "3.8.16"
  }
 },
 "nbformat": 4,
 "nbformat_minor": 5
}
