{
 "cells": [
  {
   "cell_type": "code",
   "execution_count": null,
   "id": "3c90a954-0039-4fd7-b0af-2105d4a9f367",
   "metadata": {},
   "outputs": [],
   "source": [
    "from recbole.quick_start import run_recbole"
   ]
  },
  {
   "cell_type": "code",
   "execution_count": null,
   "id": "8f415df7-ad56-4599-887c-ad95bdebec3d",
   "metadata": {},
   "outputs": [],
   "source": [
    "config = \"\"\"\n",
    "data_path: ./data\n",
    "dataset: movie\n",
    "field_separator: \"\\t\"\n",
    "seq_separator: \" \"\n",
    "USER_ID_FIELD: user\n",
    "ITEM_ID_FIELD: item\n",
    "LABEL_FIELD: label\n",
    "TIME_FIELD: time\n",
    "show_progress: true\n",
    "use_gpu: true\n",
    "\n",
    "load_col:\n",
    "    inter: [user, item, time]\n",
    "    user: [user]\n",
    "    item: [item, genre, director, title, writer, year]\n",
    "\n",
    "user_inter_num_interval: \"[0,inf)\"\n",
    "item_inter_num_interval: \"[0,inf)\"\n",
    "\n",
    "epochs: 500\n",
    "metrics: [\"Recall\"]\n",
    "topk: [10]\n",
    "valid_metric: Recall@10\n",
    "\n",
    "eval_args:\n",
    "  split: {'RS':[0.9,0.1,0.0]}\n",
    "  group_by: user\n",
    "  order: RO\n",
    "  mode: full\n",
    "\n",
    "train_neg_sample_args: \n",
    "    distribution: uniform\n",
    "    sample_num: 1\n",
    "\"\"\"\n",
    "\n",
    "with open(\"data/config.yaml\", \"w\") as f:\n",
    "    f.write(config)"
   ]
  },
  {
   "cell_type": "code",
   "execution_count": null,
   "id": "052e4140-63ac-4da6-9cf9-edf2218fd3b1",
   "metadata": {},
   "outputs": [],
   "source": [
    "run_recbole(\n",
    "    model='Pop',\n",
    "    dataset='movie',\n",
    "    config_file_list=['data/config.yaml']\n",
    ")"
   ]
  },
  {
   "cell_type": "code",
   "execution_count": null,
   "id": "83567e40-b6aa-488a-8f23-64363f46d184",
   "metadata": {},
   "outputs": [],
   "source": []
  }
 ],
 "metadata": {
  "kernelspec": {
   "display_name": "bc_recbole",
   "language": "python",
   "name": "bc_recbole"
  },
  "language_info": {
   "codemirror_mode": {
    "name": "ipython",
    "version": 3
   },
   "file_extension": ".py",
   "mimetype": "text/x-python",
   "name": "python",
   "nbconvert_exporter": "python",
   "pygments_lexer": "ipython3",
   "version": "3.8.16"
  }
 },
 "nbformat": 4,
 "nbformat_minor": 5
}
