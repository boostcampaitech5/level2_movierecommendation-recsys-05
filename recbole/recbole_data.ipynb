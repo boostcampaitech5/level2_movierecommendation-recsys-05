{
 "cells": [
  {
   "cell_type": "code",
   "execution_count": 1,
   "id": "73e1a730-e5eb-4a38-a370-251d16e4839b",
   "metadata": {},
   "outputs": [],
   "source": [
    "import pandas as pd\n",
    "import numpy as np"
   ]
  },
  {
   "cell_type": "code",
   "execution_count": 2,
   "id": "4bdc63b8-af82-42e2-b4d9-d6a50e4700ae",
   "metadata": {},
   "outputs": [],
   "source": [
    "genres = pd.read_table('/opt/ml/input/data/train/genres.tsv')\n",
    "directors = pd.read_table('/opt/ml/input/data/train/directors.tsv')\n",
    "titles = pd.read_table('/opt/ml/input/data/train/titles.tsv')\n",
    "writers = pd.read_table('/opt/ml/input/data/train/writers.tsv')\n",
    "years = pd.read_table('/opt/ml/input/data/train/years.tsv')\n",
    "ratings = pd.read_csv('/opt/ml/input/data/train/train_ratings.csv')"
   ]
  },
  {
   "cell_type": "code",
   "execution_count": 3,
   "id": "551a53f4-7cc4-4c8b-a08e-12110c93ebd2",
   "metadata": {},
   "outputs": [],
   "source": [
    "inters = ratings"
   ]
  },
  {
   "cell_type": "code",
   "execution_count": 4,
   "id": "f5609593-8b70-4b7f-94fe-fa5745d8dde6",
   "metadata": {},
   "outputs": [],
   "source": [
    "users = ratings.loc[~ratings['user'].duplicated(), 'user'].to_frame()"
   ]
  },
  {
   "cell_type": "code",
   "execution_count": 5,
   "id": "018c463c-7bb8-437b-9a85-1c00c806c381",
   "metadata": {},
   "outputs": [],
   "source": [
    "items = ratings.loc[~ratings['item'].duplicated(), 'item'].to_frame()"
   ]
  },
  {
   "cell_type": "code",
   "execution_count": 6,
   "id": "8f7bf020-3fbf-4126-97f1-ff814fda45e6",
   "metadata": {},
   "outputs": [],
   "source": [
    "genres['genre'] = genres.groupby('item')['genre'].transform(lambda x: ' '.join(x))\n",
    "genres = genres.loc[~genres.duplicated()]"
   ]
  },
  {
   "cell_type": "code",
   "execution_count": 7,
   "id": "309ef96c-883e-446c-bf00-cf9771e31406",
   "metadata": {},
   "outputs": [],
   "source": [
    "writers['writer'] = writers.groupby('item')['writer'].transform(lambda x: ' '.join(x))\n",
    "writers = writers.loc[~writers.duplicated()]"
   ]
  },
  {
   "cell_type": "code",
   "execution_count": 8,
   "id": "37a40b20-f9c8-4e97-94a8-6cfa2d956226",
   "metadata": {},
   "outputs": [],
   "source": [
    "directors['director'] = directors.groupby('item')['director'].transform(lambda x: ' '.join(x))\n",
    "directors = directors.loc[~directors.duplicated()]"
   ]
  },
  {
   "cell_type": "code",
   "execution_count": 9,
   "id": "2788342a-9e0a-4d58-8bce-854f72f3255e",
   "metadata": {},
   "outputs": [],
   "source": [
    "titles['title'] = titles['title'].apply(lambda x: ' '.join(x.split()[:-1]))"
   ]
  },
  {
   "cell_type": "code",
   "execution_count": 10,
   "id": "8a01e8a9-4587-47c7-b638-e5ef4797a66c",
   "metadata": {},
   "outputs": [],
   "source": [
    "items = items.merge(genres, how = 'left', on = 'item')\n",
    "items = items.merge(directors, how = 'left', on = 'item')\n",
    "items = items.merge(titles, how = 'left', on = 'item')\n",
    "items = items.merge(writers, how = 'left', on = 'item')\n",
    "items = items.merge(years, how = 'left', on = 'item')"
   ]
  },
  {
   "cell_type": "code",
   "execution_count": 11,
   "id": "111fd784-3681-4073-8b4a-c03574a5703c",
   "metadata": {},
   "outputs": [],
   "source": [
    "inters_dict = {\n",
    "    'user': 'user:token',\n",
    "    'item': 'item:token',\n",
    "    'time': 'time:float'\n",
    "}\n",
    "\n",
    "users_dict = {\n",
    "    'user': 'user:token'\n",
    "}\n",
    "\n",
    "items_dict = {\n",
    "    'item': 'item:token',\n",
    "    'genre': 'genre:token_seq',\n",
    "    'director': 'director:token_seq',\n",
    "    'title': 'title:token_seq',\n",
    "    'writer': 'writer:token_seq',\n",
    "    'year': 'year:token'\n",
    "}"
   ]
  },
  {
   "cell_type": "code",
   "execution_count": 12,
   "id": "84cfb934-a2ce-4df0-9950-03306e680d73",
   "metadata": {},
   "outputs": [],
   "source": [
    "inters.rename(columns = inters_dict, inplace = True)\n",
    "users.rename(columns = users_dict, inplace = True)\n",
    "items.rename(columns = items_dict, inplace = True)"
   ]
  },
  {
   "cell_type": "code",
   "execution_count": 15,
   "id": "e8af5b11-3c2d-472f-b2fa-2181504b89c5",
   "metadata": {},
   "outputs": [],
   "source": [
    "inters.to_csv('/opt/ml/recbole/data/movie/movie.inter', index = False, sep = '\\t')\n",
    "users.to_csv('/opt/ml/recbole/data/movie/movie.user', index = False, sep = '\\t')\n",
    "items.to_csv('/opt/ml/recbole/data/movie/movie.item', index = False, sep = '\\t')"
   ]
  }
 ],
 "metadata": {
  "kernelspec": {
   "display_name": "bc_recbole",
   "language": "python",
   "name": "bc_recbole"
  },
  "language_info": {
   "codemirror_mode": {
    "name": "ipython",
    "version": 3
   },
   "file_extension": ".py",
   "mimetype": "text/x-python",
   "name": "python",
   "nbconvert_exporter": "python",
   "pygments_lexer": "ipython3",
   "version": "3.8.16"
  }
 },
 "nbformat": 4,
 "nbformat_minor": 5
}
